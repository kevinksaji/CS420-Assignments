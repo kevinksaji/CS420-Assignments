{
  "cells": [
    {
      "cell_type": "code",
      "execution_count": 108,
      "metadata": {
        "colab": {
          "base_uri": "https://localhost:8080/"
        },
        "id": "QjHK80jR15cb",
        "outputId": "d518db4e-9ff5-4f32-e376-b7998f3c6ee4"
      },
      "outputs": [
        {
          "output_type": "stream",
          "name": "stderr",
          "text": [
            "[nltk_data] Downloading package stopwords to /root/nltk_data...\n",
            "[nltk_data]   Package stopwords is already up-to-date!\n",
            "[nltk_data] Downloading package punkt to /root/nltk_data...\n",
            "[nltk_data]   Package punkt is already up-to-date!\n"
          ]
        },
        {
          "output_type": "stream",
          "name": "stdout",
          "text": [
            "Drive already mounted at /content/drive; to attempt to forcibly remount, call drive.mount(\"/content/drive\", force_remount=True).\n"
          ]
        }
      ],
      "source": [
        "import nltk\n",
        "nltk.download('stopwords')\n",
        "from nltk.corpus import stopwords\n",
        "nltk.download('punkt')\n",
        "\n",
        "import numpy as np\n",
        "import pandas as pd\n",
        "from gensim.models import word2vec\n",
        "\n",
        "from google.colab import drive\n",
        "drive.mount('/content/drive')\n",
        "\n",
        "import re # For regular expressions"
      ]
    },
    {
      "cell_type": "markdown",
      "metadata": {
        "id": "UTam_xXUv2Z9"
      },
      "source": [
        "## (a) Load the dataset"
      ]
    },
    {
      "cell_type": "code",
      "execution_count": 109,
      "metadata": {
        "colab": {
          "base_uri": "https://localhost:8080/"
        },
        "id": "xQsTJcH2X-9E",
        "outputId": "bddaae8d-376a-44e2-c866-ed4c5283c194"
      },
      "outputs": [
        {
          "output_type": "stream",
          "name": "stdout",
          "text": [
            "[['smelled', 'scent', 'hand', 'sanitizers', 'today', 'someone', 'past', 'would', 'think', 'intoxicated'], ['hey', 'yankees', 'yankeespr', 'mlb', 'made', 'sense', 'players', 'pay', 'respects'], ['diane', 'wdunlap', 'realdonaldtrump', 'trump', 'never', 'claimed', 'covid', 'hoax', 'claim', 'effort']]\n"
          ]
        }
      ],
      "source": [
        "def load_data():\n",
        "    \"\"\" Read tweets from the file.\n",
        "        Return:\n",
        "            list of lists (list_words), with words from each of the processed tweets\n",
        "    \"\"\"\n",
        "    tweets = pd.read_csv('/content/drive/MyDrive/Corona_Tweets_large.csv', header=None)\n",
        "    list_words = []\n",
        "    # define stop words\n",
        "    stop_words = set(stopwords.words('english'))\n",
        "    ### iterate over all tweets from the dataset\n",
        "    for i in tweets.index:\n",
        "      tweet = tweets.loc[i, 0]\n",
        "      # Remove URLs\n",
        "      text = re.sub(r'https?://\\S+', '', tweet)\n",
        "      ### remove non-letter.\n",
        "      text = re.sub(r'[^a-zA-Z]', ' ', text)\n",
        "      ### tokenize\n",
        "      words = nltk.word_tokenize(text)\n",
        "\n",
        "      new_words = []\n",
        "      ### iterate over all words of a tweet, remove the stop words and convert a word (w) to the lower case\n",
        "      for w in words:\n",
        "        w_lower = w.lower()\n",
        "        if w_lower not in stop_words:\n",
        "          new_words.append(w_lower)\n",
        "\n",
        "      list_words.append(new_words)\n",
        "    return list_words\n",
        "\n",
        "# check a few samples of twitter corpus\n",
        "twitter_corpus = load_data()\n",
        "print(twitter_corpus[:3])"
      ]
    },
    {
      "cell_type": "markdown",
      "metadata": {
        "id": "D4dOMjKj15cy"
      },
      "source": [
        "## (b) Word2Vec"
      ]
    },
    {
      "cell_type": "code",
      "execution_count": 110,
      "metadata": {
        "colab": {
          "base_uri": "https://localhost:8080/"
        },
        "id": "jRti6Rn815cy",
        "outputId": "0e863e9e-b67a-461b-bcde-5961daca04e3"
      },
      "outputs": [
        {
          "output_type": "stream",
          "name": "stdout",
          "text": [
            "Training Word2Vec model with 20 features and 5 context window size....\n"
          ]
        },
        {
          "output_type": "stream",
          "name": "stderr",
          "text": [
            "<ipython-input-110-2896e80c6a99>:19: DeprecationWarning: Call to deprecated `init_sims` (Gensim 4.0.0 implemented internal optimizations that make calls to init_sims() unnecessary. init_sims() is now obsoleted and will be completely removed in future versions. See https://github.com/RaRe-Technologies/gensim/wiki/Migrating-from-Gensim-3.x-to-4).\n",
            "  model.init_sims(replace=True)\n",
            "WARNING:gensim.models.keyedvectors:destructive init_sims(replace=True) deprecated & no longer required for space-efficiency\n"
          ]
        },
        {
          "output_type": "stream",
          "name": "stdout",
          "text": [
            "Training Word2Vec model with 50 features and 10 context window size....\n"
          ]
        },
        {
          "output_type": "stream",
          "name": "stderr",
          "text": [
            "WARNING:gensim.models.keyedvectors:destructive init_sims(replace=True) deprecated & no longer required for space-efficiency\n"
          ]
        },
        {
          "output_type": "stream",
          "name": "stdout",
          "text": [
            "Training Word2Vec model with 75 features and 15 context window size....\n"
          ]
        },
        {
          "output_type": "stream",
          "name": "stderr",
          "text": [
            "WARNING:gensim.models.keyedvectors:destructive init_sims(replace=True) deprecated & no longer required for space-efficiency\n"
          ]
        },
        {
          "output_type": "stream",
          "name": "stdout",
          "text": [
            "All models trained\n"
          ]
        }
      ],
      "source": [
        "# Creating the word2vec model and setting values for the various parameters\n",
        "\n",
        "# Function for model training\n",
        "\n",
        "def train_word2vec(twitter_corpus, num_features, context):\n",
        "  num_workers = 4     # Number of parallel threads, can be changed\n",
        "  min_word_count = 10  # Minimum word count. You can change it also.\n",
        "  downsampling = 1e-3 # (0.001) Downsample setting for frequent words, can be changed\n",
        "\n",
        "  # Initializing the train model\n",
        "  print(f\"Training Word2Vec model with {num_features} features and {context} context window size....\")\n",
        "  model = word2vec.Word2Vec(twitter_corpus, workers=num_workers,\\\n",
        "                            vector_size=num_features,\\\n",
        "                            min_count=min_word_count,\\\n",
        "                            window=context,\n",
        "                            sample=downsampling)\n",
        "\n",
        "  # To make the model memory efficient\n",
        "  model.init_sims(replace=True)\n",
        "\n",
        "  return model\n",
        "\n",
        "settings = [(20, 5), (50, 10), (75, 15)]\n",
        "models = []\n",
        "\n",
        "for num_features, context in settings:\n",
        "    model = train_word2vec(twitter_corpus, num_features, context)\n",
        "    models.append(model)\n",
        "\n",
        "print(\"All models trained\")\n",
        "\n",
        "\n",
        "\n",
        "\n"
      ]
    },
    {
      "cell_type": "code",
      "execution_count": 111,
      "metadata": {
        "id": "BxVYovyL15c5",
        "colab": {
          "base_uri": "https://localhost:8080/"
        },
        "outputId": "952c7e1a-f62d-4442-98a4-6f9d4b1d81e8"
      },
      "outputs": [
        {
          "output_type": "stream",
          "name": "stdout",
          "text": [
            "Model with 20 features and a context window of 5:\n",
            "[('coronavirus', 0.880866527557373), ('current', 0.7242090702056885), ('repor', 0.6912548542022705), ('abroad', 0.6783382892608643), ('unknown', 0.6728489398956299), ('recover', 0.6718835830688477), ('underestimate', 0.6703233122825623), ('upsurge', 0.6688410043716431), ('emergence', 0.6636218428611755), ('arising', 0.6616073846817017)]\n",
            "Model with 50 features and a context window of 10:\n",
            "[('coronavirus', 0.42557772994041443), ('concerning', 0.4255542755126953), ('infe', 0.4168890118598938), ('races', 0.413379430770874), ('mln', 0.4132644832134247), ('numb', 0.41047918796539307), ('accurately', 0.4094751477241516), ('decrease', 0.40897104144096375), ('underestimate', 0.4088849127292633), ('mapping', 0.4070318639278412)]\n",
            "Model with 75 features and a context window of 15:\n",
            "[('infe', 0.466819167137146), ('infecti', 0.4321218729019165), ('climbed', 0.41643258929252625), ('incr', 0.407633900642395), ('mln', 0.40618956089019775), ('cou', 0.4005480408668518), ('untested', 0.3993797302246094), ('lessen', 0.39453741908073425), ('nearing', 0.39291107654571533), ('nstworld', 0.3906424343585968)]\n"
          ]
        }
      ],
      "source": [
        "for model, (num_features, context) in zip(models, settings):\n",
        "    print(f\"Model with {num_features} features and a context window of {context}:\")\n",
        "    print(model.wv.most_similar(\"covid\"))\n",
        "\n",
        "\n"
      ]
    },
    {
      "cell_type": "code",
      "execution_count": 112,
      "metadata": {
        "colab": {
          "base_uri": "https://localhost:8080/"
        },
        "id": "UcsipeIhpaHh",
        "outputId": "27d9b925-651a-4eaf-f66f-5eed65e87f03"
      },
      "outputs": [
        {
          "output_type": "stream",
          "name": "stdout",
          "text": [
            "Model with 20 features and a context window of 5:\n",
            "[('shopping', 0.9466589689254761), ('store', 0.9262773394584656), ('shop', 0.9156877398490906), ('buses', 0.8945198059082031), ('dining', 0.8872543573379517), ('door', 0.8849291801452637), ('shoppers', 0.8841686844825745), ('restaurant', 0.8757009506225586), ('stores', 0.8668549656867981), ('outdoor', 0.8583507537841797)]\n",
            "Model with 50 features and a context window of 10:\n",
            "[('shopping', 0.9162435531616211), ('shop', 0.9002662301063538), ('store', 0.898946225643158), ('stores', 0.8803632855415344), ('restaurant', 0.8647862076759338), ('outdoor', 0.8508056998252869), ('mall', 0.8480250835418701), ('barber', 0.847423255443573), ('dining', 0.837873637676239), ('distanced', 0.8351019620895386)]\n",
            "Model with 75 features and a context window of 15:\n",
            "[('shop', 0.9381406903266907), ('store', 0.9290154576301575), ('stores', 0.9211677312850952), ('shopping', 0.903228223323822), ('pack', 0.8588300347328186), ('shoppers', 0.8552000522613525), ('customers', 0.8508106470108032), ('restaurant', 0.8461294770240784), ('parking', 0.8421614766120911), ('bag', 0.8394578695297241)]\n"
          ]
        }
      ],
      "source": [
        "for model, (num_features, context) in zip(models, settings):\n",
        "    print(f\"Model with {num_features} features and a context window of {context}:\")\n",
        "    print(model.wv.most_similar(\"grocery\"))\n"
      ]
    },
    {
      "cell_type": "code",
      "execution_count": 113,
      "metadata": {
        "colab": {
          "base_uri": "https://localhost:8080/"
        },
        "id": "A1X7P3q-pcEK",
        "outputId": "0434b857-9e01-4ff8-aa37-fc0c4e673263"
      },
      "outputs": [
        {
          "output_type": "stream",
          "name": "stdout",
          "text": [
            "Model with 20 features and a context window of 5:\n",
            "[('deadly', 0.7818624973297119), ('contagious', 0.7509030699729919), ('control', 0.7446085810661316), ('viruses', 0.7289645671844482), ('uncontrolled', 0.7250337600708008), ('mutation', 0.7197945713996887), ('bat', 0.7112981677055359), ('known', 0.7036827802658081), ('faster', 0.7033466696739197), ('disease', 0.6989998817443848)]\n",
            "Model with 50 features and a context window of 10:\n",
            "[('deadly', 0.6614598035812378), ('contagious', 0.6559390425682068), ('controlled', 0.6473415493965149), ('wuhan', 0.6172404289245605), ('mutation', 0.6028766632080078), ('bat', 0.5987941026687622), ('viruses', 0.5984153747558594), ('herd', 0.5943875312805176), ('underestimate', 0.5918603539466858), ('stopping', 0.5887576341629028)]\n",
            "Model with 75 features and a context window of 15:\n",
            "[('deadly', 0.6631927490234375), ('controlled', 0.6271705627441406), ('herd', 0.6147304177284241), ('mutation', 0.6085119247436523), ('contagious', 0.6076118350028992), ('wuhan', 0.6021905541419983), ('worldnews', 0.5926603674888611), ('infe', 0.5893394947052002), ('viruses', 0.5846202373504639), ('bat', 0.5793328285217285)]\n"
          ]
        }
      ],
      "source": [
        "for model, (num_features, context) in zip(models, settings):\n",
        "    print(f\"Model with {num_features} features and a context window of {context}:\")\n",
        "    print(model.wv.most_similar(\"virus\"))"
      ]
    },
    {
      "cell_type": "code",
      "execution_count": 114,
      "metadata": {
        "colab": {
          "base_uri": "https://localhost:8080/"
        },
        "id": "BTs8bj12Jr4d",
        "outputId": "48340b47-e1df-4bac-b41d-4937d84e4680"
      },
      "outputs": [
        {
          "output_type": "stream",
          "name": "stdout",
          "text": [
            "Model with 20 features and a context window of 5:\n",
            "[('coronainfoch', 0.7689714431762695), ('worldnews', 0.7321677803993225), ('source', 0.7146664261817932), ('utc', 0.7091984748840332), ('shalinitelevision', 0.695848822593689), ('coronavirus', 0.6747753620147705), ('bat', 0.6710646152496338), ('repor', 0.6609982252120972), ('coronaoutbreak', 0.6604428887367249), ('wuhan', 0.6534472703933716)]\n",
            "Model with 50 features and a context window of 10:\n",
            "[('coronainfoch', 0.702916145324707), ('worldnews', 0.6888173222541809), ('source', 0.60324627161026), ('coronainindia', 0.5926268100738525), ('utc', 0.5862802267074585), ('repor', 0.5820522308349609), ('bat', 0.5597086548805237), ('modified', 0.539826512336731), ('virus', 0.5249661207199097), ('coronovirus', 0.5178118944168091)]\n",
            "Model with 75 features and a context window of 15:\n",
            "[('coronainfoch', 0.692014217376709), ('worldnews', 0.6426941156387329), ('source', 0.5553585290908813), ('bat', 0.5439143180847168), ('korona', 0.5367870926856995), ('effected', 0.533259928226471), ('repor', 0.5326462984085083), ('utc', 0.5288170576095581), ('shalinitelevision', 0.5231534838676453), ('healthandmedical', 0.5116891264915466)]\n"
          ]
        }
      ],
      "source": [
        "for model, (num_features, context) in zip(models, settings):\n",
        "    print(f\"Model with {num_features} features and a context window of {context}:\")\n",
        "    print(model.wv.most_similar(\"corona\"))"
      ]
    },
    {
      "cell_type": "code",
      "execution_count": 115,
      "metadata": {
        "colab": {
          "base_uri": "https://localhost:8080/"
        },
        "id": "gcPow9fUJt-E",
        "outputId": "dd52b02c-3f09-487e-b380-09ee3fa17f2c"
      },
      "outputs": [
        {
          "output_type": "stream",
          "name": "stdout",
          "text": [
            "Model with 20 features and a context window of 5:\n",
            "[('crisis', 0.8270560503005981), ('disruption', 0.7848400473594666), ('midst', 0.783033549785614), ('pan', 0.7794546484947205), ('wemerry', 0.7750093936920166), ('gracepoint', 0.7741866111755371), ('depression', 0.7621597051620483), ('climatechange', 0.7589793801307678), ('uncertainty', 0.7582972645759583), ('pande', 0.7578797340393066)]\n",
            "Model with 50 features and a context window of 10:\n",
            "[('crisis', 0.7169919610023499), ('pandemi', 0.6076443791389465), ('pande', 0.6002398729324341), ('pan', 0.5887707471847534), ('disruption', 0.5620629787445068), ('fears', 0.5607689619064331), ('pandem', 0.5534719228744507), ('wemerry', 0.5512080788612366), ('warming', 0.548931896686554), ('pand', 0.5382226705551147)]\n",
            "Model with 75 features and a context window of 15:\n",
            "[('crisis', 0.7158800959587097), ('downturns', 0.6055337190628052), ('disruption', 0.5616447329521179), ('pan', 0.5516571402549744), ('crises', 0.5516414642333984), ('uncertainty', 0.5441136360168457), ('pandemi', 0.5345349907875061), ('chaos', 0.523593008518219), ('warming', 0.5184000134468079), ('threat', 0.5180591344833374)]\n"
          ]
        }
      ],
      "source": [
        "for model, (num_features, context) in zip(models, settings):\n",
        "    print(f\"Model with {num_features} features and a context window of {context}:\")\n",
        "    print(model.wv.most_similar(\"pandemic\"))"
      ]
    },
    {
      "cell_type": "code",
      "execution_count": 116,
      "metadata": {
        "colab": {
          "base_uri": "https://localhost:8080/"
        },
        "id": "Wq7VaCitO0gw",
        "outputId": "eeb6ef14-70ab-4254-b99d-1f5e971c1f5f"
      },
      "outputs": [
        {
          "output_type": "stream",
          "name": "stdout",
          "text": [
            "Model with 20 features and a context window of 5:\n",
            "[('restrictions', 0.9008350968360901), ('tourists', 0.8164910078048706), ('easing', 0.8008719682693481), ('travel', 0.7970287203788757), ('melbourne', 0.7955950498580933), ('imposed', 0.7938512563705444), ('australia', 0.7771329283714294), ('stricter', 0.7623907923698425), ('auckland', 0.7609186172485352), ('spain', 0.7499379515647888)]\n",
            "Model with 50 features and a context window of 10:\n",
            "[('restrictions', 0.7411366701126099), ('easing', 0.712208092212677), ('lifted', 0.6908116340637207), ('imposed', 0.6876134276390076), ('eased', 0.6648248434066772), ('stricter', 0.6464563012123108), ('curfew', 0.6428375244140625), ('complete', 0.6231052875518799), ('parts', 0.6230484843254089), ('melbourne', 0.6221562623977661)]\n",
            "Model with 75 features and a context window of 15:\n",
            "[('restrictions', 0.7326436042785645), ('imposed', 0.6752158403396606), ('lifted', 0.6513366103172302), ('manchester', 0.6435272693634033), ('easing', 0.6407857537269592), ('hotels', 0.63495934009552), ('quarantine', 0.6328858733177185), ('stricter', 0.6320581436157227), ('imposing', 0.6245325803756714), ('curfew', 0.6240652799606323)]\n"
          ]
        }
      ],
      "source": [
        "for model, (num_features, context) in zip(models, settings):\n",
        "    print(f\"Model with {num_features} features and a context window of {context}:\")\n",
        "    print(model.wv.most_similar(\"lockdown\"))"
      ]
    },
    {
      "cell_type": "code",
      "source": [
        "# function to find odd word out\n",
        "def odd_one_out(model, words):\n",
        "  odd_word = model.wv.doesnt_match(words)\n",
        "  return odd_word;\n",
        "\n",
        "# list of test words\n",
        "words = [\"covid\", \"grocery\", \"virus\", \"corona\", \"pandemic\"]\n",
        "\n",
        "for model, (num_features, context) in zip(models, settings):\n",
        "    print(f\"Model with {num_features} features and a context window of {context}:\")\n",
        "    print(f\"The odd word out is: {odd_one_out(model, words)}\")\n"
      ],
      "metadata": {
        "colab": {
          "base_uri": "https://localhost:8080/"
        },
        "id": "4F9v0oQsoLK-",
        "outputId": "3403552c-66c0-4d1e-c413-716c16904917"
      },
      "execution_count": 117,
      "outputs": [
        {
          "output_type": "stream",
          "name": "stdout",
          "text": [
            "Model with 20 features and a context window of 5:\n",
            "The odd word out is: grocery\n",
            "Model with 50 features and a context window of 10:\n",
            "The odd word out is: grocery\n",
            "Model with 75 features and a context window of 15:\n",
            "The odd word out is: grocery\n"
          ]
        }
      ]
    }
  ],
  "metadata": {
    "accelerator": "GPU",
    "colab": {
      "gpuType": "T4",
      "provenance": []
    },
    "kernelspec": {
      "display_name": "Python 3",
      "name": "python3"
    },
    "language_info": {
      "codemirror_mode": {
        "name": "ipython",
        "version": 3
      },
      "file_extension": ".py",
      "mimetype": "text/x-python",
      "name": "python",
      "nbconvert_exporter": "python",
      "pygments_lexer": "ipython3",
      "version": "3.9.12"
    }
  },
  "nbformat": 4,
  "nbformat_minor": 0
}