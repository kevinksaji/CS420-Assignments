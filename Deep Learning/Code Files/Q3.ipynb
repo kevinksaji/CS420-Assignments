{
  "nbformat": 4,
  "nbformat_minor": 0,
  "metadata": {
    "colab": {
      "provenance": []
    },
    "kernelspec": {
      "name": "python3",
      "display_name": "Python 3"
    },
    "language_info": {
      "name": "python"
    }
  },
  "cells": [
    {
      "cell_type": "code",
      "source": [
        "!pip install pgmpy"
      ],
      "metadata": {
        "colab": {
          "base_uri": "https://localhost:8080/"
        },
        "id": "VOGc9hiUx4eh",
        "outputId": "77253087-17bd-40ae-88a3-36204d7dba3e"
      },
      "execution_count": 1,
      "outputs": [
        {
          "output_type": "stream",
          "name": "stdout",
          "text": [
            "Collecting pgmpy\n",
            "  Downloading pgmpy-0.1.24-py3-none-any.whl (2.0 MB)\n",
            "\u001b[2K     \u001b[90m━━━━━━━━━━━━━━━━━━━━━━━━━━━━━━━━━━━━━━━━\u001b[0m \u001b[32m2.0/2.0 MB\u001b[0m \u001b[31m12.9 MB/s\u001b[0m eta \u001b[36m0:00:00\u001b[0m\n",
            "\u001b[?25hRequirement already satisfied: networkx in /usr/local/lib/python3.10/dist-packages (from pgmpy) (3.2.1)\n",
            "Requirement already satisfied: numpy in /usr/local/lib/python3.10/dist-packages (from pgmpy) (1.25.2)\n",
            "Requirement already satisfied: scipy in /usr/local/lib/python3.10/dist-packages (from pgmpy) (1.11.4)\n",
            "Requirement already satisfied: scikit-learn in /usr/local/lib/python3.10/dist-packages (from pgmpy) (1.2.2)\n",
            "Requirement already satisfied: pandas in /usr/local/lib/python3.10/dist-packages (from pgmpy) (1.5.3)\n",
            "Requirement already satisfied: pyparsing in /usr/local/lib/python3.10/dist-packages (from pgmpy) (3.1.1)\n",
            "Requirement already satisfied: torch in /usr/local/lib/python3.10/dist-packages (from pgmpy) (2.1.0+cu121)\n",
            "Requirement already satisfied: statsmodels in /usr/local/lib/python3.10/dist-packages (from pgmpy) (0.14.1)\n",
            "Requirement already satisfied: tqdm in /usr/local/lib/python3.10/dist-packages (from pgmpy) (4.66.2)\n",
            "Requirement already satisfied: joblib in /usr/local/lib/python3.10/dist-packages (from pgmpy) (1.3.2)\n",
            "Requirement already satisfied: opt-einsum in /usr/local/lib/python3.10/dist-packages (from pgmpy) (3.3.0)\n",
            "Requirement already satisfied: python-dateutil>=2.8.1 in /usr/local/lib/python3.10/dist-packages (from pandas->pgmpy) (2.8.2)\n",
            "Requirement already satisfied: pytz>=2020.1 in /usr/local/lib/python3.10/dist-packages (from pandas->pgmpy) (2023.4)\n",
            "Requirement already satisfied: threadpoolctl>=2.0.0 in /usr/local/lib/python3.10/dist-packages (from scikit-learn->pgmpy) (3.2.0)\n",
            "Requirement already satisfied: patsy>=0.5.4 in /usr/local/lib/python3.10/dist-packages (from statsmodels->pgmpy) (0.5.6)\n",
            "Requirement already satisfied: packaging>=21.3 in /usr/local/lib/python3.10/dist-packages (from statsmodels->pgmpy) (23.2)\n",
            "Requirement already satisfied: filelock in /usr/local/lib/python3.10/dist-packages (from torch->pgmpy) (3.13.1)\n",
            "Requirement already satisfied: typing-extensions in /usr/local/lib/python3.10/dist-packages (from torch->pgmpy) (4.9.0)\n",
            "Requirement already satisfied: sympy in /usr/local/lib/python3.10/dist-packages (from torch->pgmpy) (1.12)\n",
            "Requirement already satisfied: jinja2 in /usr/local/lib/python3.10/dist-packages (from torch->pgmpy) (3.1.3)\n",
            "Requirement already satisfied: fsspec in /usr/local/lib/python3.10/dist-packages (from torch->pgmpy) (2023.6.0)\n",
            "Requirement already satisfied: triton==2.1.0 in /usr/local/lib/python3.10/dist-packages (from torch->pgmpy) (2.1.0)\n",
            "Requirement already satisfied: six in /usr/local/lib/python3.10/dist-packages (from patsy>=0.5.4->statsmodels->pgmpy) (1.16.0)\n",
            "Requirement already satisfied: MarkupSafe>=2.0 in /usr/local/lib/python3.10/dist-packages (from jinja2->torch->pgmpy) (2.1.5)\n",
            "Requirement already satisfied: mpmath>=0.19 in /usr/local/lib/python3.10/dist-packages (from sympy->torch->pgmpy) (1.3.0)\n",
            "Installing collected packages: pgmpy\n",
            "Successfully installed pgmpy-0.1.24\n"
          ]
        }
      ]
    },
    {
      "cell_type": "code",
      "source": [
        "# Import relevant packages\n",
        "from pgmpy.models import BayesianModel\n",
        "from pgmpy.factors.discrete import TabularCPD\n",
        "import sys"
      ],
      "metadata": {
        "id": "kNWzro-Kx9Kv"
      },
      "execution_count": 2,
      "outputs": []
    },
    {
      "cell_type": "code",
      "source": [
        "# We first create a model which containts edges of the graph\n",
        "model = BayesianModel([('Smoking', 'Yellow Fingers'), ('Smoking', 'Cancer'), ('Solar Flares', 'Radiation'), ('Using Microwave', 'Radiation'), ('Radiation', 'Skin Burn'), ('Radiation', 'Cancer')])\n",
        "\n",
        "# Enter conditional probability distribution for each variable\n",
        "\n",
        "# Prior probability for Smoking P(S)\n",
        "cpd_S = TabularCPD(variable='Smoking', variable_card=2, values=[[0.8], [0.2]])\n",
        "\n",
        "# Prior probability for Solar Flares P(F)\n",
        "cpd_F = TabularCPD(variable='Solar Flares', variable_card=2, values=[[0.999], [0.001]])\n",
        "\n",
        "# Prior probability for Using Microwave P(M)\n",
        "cpd_M = TabularCPD(variable='Using Microwave', variable_card=2, values=[[0.1], [0.9]])"
      ],
      "metadata": {
        "colab": {
          "base_uri": "https://localhost:8080/"
        },
        "id": "_2XG8FiYyA03",
        "outputId": "375aaab4-c17d-48c4-abaf-b165687ff1f9"
      },
      "execution_count": 3,
      "outputs": [
        {
          "output_type": "stream",
          "name": "stderr",
          "text": [
            "WARNING:pgmpy:BayesianModel has been renamed to BayesianNetwork. Please use BayesianNetwork class, BayesianModel will be removed in future.\n"
          ]
        }
      ]
    },
    {
      "cell_type": "code",
      "source": [
        "# Conditional probability for Skin Burn or P(B|R)\n",
        "cpd_B = TabularCPD(variable='Skin Burn',variable_card=2, values = [[0.99, 0.9], [0.01, 0.1]],\n",
        "                                  evidence = ['Radiation'],\n",
        "                                  evidence_card=[2])\n",
        "\n",
        "# Conditional probability for Radiation or P(R|F, M)\n",
        "cpd_R = TabularCPD(variable='Radiation', variable_card=2, values =  [[0.99, 0.9, 0.7, 0.5], [0.01, 0.1, 0.3, 0.5]],\n",
        "                                  evidence = ['Solar Flares', 'Using Microwave'],\n",
        "                                  evidence_card=[2, 2])\n",
        "# Conditional probability for Cancer or P(C|S, R)\n",
        "cpd_C = TabularCPD(variable='Cancer', variable_card=2, values = [[0.9, 0.4, 0.8, 0.1], [0.1, 0.6, 0.2, 0.9]],\n",
        "                                  evidence = ['Smoking', 'Radiation'],\n",
        "                                  evidence_card=[2, 2])\n",
        "\n",
        "# Conditional probability for Yellow Fingers or P(Y|S)\n",
        "cpd_Y = TabularCPD(variable='Yellow Fingers',variable_card=2, values = [[0.9, 0.1], [0.1, 0.9]],\n",
        "                                  evidence = ['Smoking'],\n",
        "                                  evidence_card=[2])\n",
        "\n",
        "model.add_cpds(cpd_B, cpd_R, cpd_C, cpd_S, cpd_F, cpd_M, cpd_Y)"
      ],
      "metadata": {
        "id": "SjdJgpfm13WK"
      },
      "execution_count": 4,
      "outputs": []
    },
    {
      "cell_type": "code",
      "source": [
        "print(model.check_model())"
      ],
      "metadata": {
        "colab": {
          "base_uri": "https://localhost:8080/"
        },
        "id": "5huJJRpI58v5",
        "outputId": "e6f8336a-a91a-4cc9-ab17-927e6fb6bffb"
      },
      "execution_count": 5,
      "outputs": [
        {
          "output_type": "stream",
          "name": "stdout",
          "text": [
            "True\n"
          ]
        }
      ]
    },
    {
      "cell_type": "code",
      "source": [
        "from pgmpy.inference import VariableElimination\n",
        "# Going to do variable elimination\n",
        "infer = VariableElimination(model)\n",
        "\n",
        "# Compute probability of Radiation given Cancer = 1\n",
        "phi_query = infer.query(['Radiation'], evidence={'Cancer':1}, joint = False)\n",
        "factor = phi_query['Radiation']\n",
        "print('Probability of Radiation given Cancer = 1')\n",
        "print(factor)\n",
        "\n",
        "# Compute probability of Cancer given Skin Burn = 1\n",
        "phi_query = infer.query(['Cancer'], evidence={'Skin Burn':1}, joint = False)\n",
        "factor = phi_query['Cancer']\n",
        "print('Probability of Cancer given Skin Burn = 1')\n",
        "print(factor)\n",
        "\n",
        "# Compute probability of Cancer given Using Microwave = 0\n",
        "phi_query = infer.query(['Cancer'], evidence={'Using Microwave':0}, joint = False)\n",
        "factor = phi_query['Cancer']\n",
        "print('Probability of Cancer given Using Microwave = 0')\n",
        "print(factor)"
      ],
      "metadata": {
        "colab": {
          "base_uri": "https://localhost:8080/"
        },
        "id": "YlqEISIIJHde",
        "outputId": "63ed2785-cafc-40e7-a621-659361303fd8"
      },
      "execution_count": 6,
      "outputs": [
        {
          "output_type": "stream",
          "name": "stderr",
          "text": [
            "WARNING:pgmpy:BayesianModel has been renamed to BayesianNetwork. Please use BayesianNetwork class, BayesianModel will be removed in future.\n",
            "WARNING:pgmpy:BayesianModel has been renamed to BayesianNetwork. Please use BayesianNetwork class, BayesianModel will be removed in future.\n",
            "WARNING:pgmpy:BayesianModel has been renamed to BayesianNetwork. Please use BayesianNetwork class, BayesianModel will be removed in future.\n",
            "WARNING:pgmpy:BayesianModel has been renamed to BayesianNetwork. Please use BayesianNetwork class, BayesianModel will be removed in future.\n",
            "WARNING:pgmpy:BayesianModel has been renamed to BayesianNetwork. Please use BayesianNetwork class, BayesianModel will be removed in future.\n",
            "WARNING:pgmpy:BayesianModel has been renamed to BayesianNetwork. Please use BayesianNetwork class, BayesianModel will be removed in future.\n"
          ]
        },
        {
          "output_type": "stream",
          "name": "stdout",
          "text": [
            "Probability of Radiation given Cancer = 1\n",
            "+--------------+------------------+\n",
            "| Radiation    |   phi(Radiation) |\n",
            "+==============+==================+\n",
            "| Radiation(0) |           0.6438 |\n",
            "+--------------+------------------+\n",
            "| Radiation(1) |           0.3562 |\n",
            "+--------------+------------------+\n",
            "Probability of Cancer given Skin Burn = 1\n",
            "+-----------+---------------+\n",
            "| Cancer    |   phi(Cancer) |\n",
            "+===========+===============+\n",
            "| Cancer(0) |        0.6092 |\n",
            "+-----------+---------------+\n",
            "| Cancer(1) |        0.3908 |\n",
            "+-----------+---------------+\n",
            "Probability of Cancer given Using Microwave = 0\n",
            "+-----------+---------------+\n",
            "| Cancer    |   phi(Cancer) |\n",
            "+===========+===============+\n",
            "| Cancer(0) |        0.8744 |\n",
            "+-----------+---------------+\n",
            "| Cancer(1) |        0.1256 |\n",
            "+-----------+---------------+\n"
          ]
        }
      ]
    }
  ]
}